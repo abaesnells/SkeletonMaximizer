{
  "cells": [
    {
      "cell_type": "markdown",
      "source": [
        "#Introduction\n",
        "\n",
        "This is a very silly Jupyter Notebook designed to maximize your Dungeons & Dragons play and get the most out of your Necromancy Wizard.  The idea for this notebook came from one of my current 5th edition D&D campaigns with my friends where my character is a 10th level Necromancer.  Our party needed to defend a town from an oncoming seige and I needed to know just how many skeletons I could bring back from the dead in 4 days so that when the corrupt sheriff arrives to destroy the town, we would have an army of the undead to aid us in the battle.  \n",
        "\n",
        "#The Rules \n",
        "\n",
        "For those uninitiated with the D&D rules, each player creates a character which they then use to tackle the scenarios that their Dungeon Master (or DM) throws at them.  Characters have specific resources allocated to them based on the class that they choose to play.  As a Wizard, you get access to a list of spells which do almost everything you can imagine: summoning meteors from the sky, changing the weather, reading text in an unknown language, and yes, bringing people back from the dead.  The main resource at a Wizard's disposal is their spell slots, which is the cost that they pay to cast a particular spell.  Spells are leveled (from 1-9) and characters are allocated a particular number of spell slots for each corresponding level, each slot allowing them to cast 1 spell of that level.   Upcasting spells is also allowed, meaning that you can use a higher level slot to cast a lower level spell, sometimes there are added benefits to casting a lower level spell with a higher level slot.  There is one spell that I was primarily concerned with ~abusing~ maximizing. This is the 'Animate Dead' spell, the rules of which I have reproduced below.  Animate Dead\n",
        "3 Necromancy\n",
        "\n",
        "    Casting Time: 1 minute\n",
        "    Range: 10 feet\n",
        "    Target: A pile of bones or a corpse of a Medium or Small humanoid within range\n",
        "    Components: V S M (A drop of blood, a piece of flesh, and a pinch of bone dust)\n",
        "    Duration: Instantaneous\n",
        "    Classes: Cleric, Wizard\n",
        "    This spell creates an undead servant. Choose a pile of bones or a corpse of a Medium or Small humanoid within range. Your spell imbues the target with a foul mimicry of life, raising it as an undead creature. The target becomes a skeleton if you chose bones or a zombie if you chose a corpse (the GM has the creature’s game statistics). On each of your turns, you can use a bonus action to mentally command any creature you made with this spell if the creature is within 60 feet of you (if you control multiple creatures, you can command any or all of them at the same time, issuing the same command to each one). You decide what action the creature will take and where it will move during its next turn, or you can issue a general command, such as to guard a particular chamber or corridor. If you issue no commands, the creature only defends itself against hostile creatures. Once given an order, the creature continues to follow it until its task is complete. The creature is under your control for 24 hours, after which it stops obeying any command you’ve given it. To maintain control of the creature for another 24 hours, you must cast this spell on the creature again before the current 24-hour period ends. This use of the spell reasserts your control over up to four creatures you have animated with this spell, rather than animating a new one.\n",
        "    At Higher Levels: When you cast this spell using a spell slot of 4th level or higher, you animate or reassert control over two additional Undead creatures for each slot above 3rd. Each of the creatures must come from a different corpse or pile of bones.\n",
        "\n",
        "The following code is an attempt to solve a linear optimization problem to maximize the total number of skeletons my character could reasonably create using all of the spell slot resources available to her each day.  Wizards additionally have a special ability called 'Arcane Recovery' which allows them to recover some number of spell slots (dependent on their level) once per day.  I have ignored this ability for simplicity, but hope to integrate it into the mathematics in the future.  \n",
        " "
      ],
      "metadata": {
        "id": "sgoNMRkh7kMI"
      },
      "id": "sgoNMRkh7kMI"
    },
    {
      "cell_type": "markdown",
      "source": [
        "The first step is to define a matrix of weights which can be used later for the optimization problem.  The idea here is to weight the use of each spell slot based on the potential benefits that they could give for either the application of animating or reasserting control (reanimating) a skeleton.  I create a dictionary which tells me the number of skeletons I can (animate, reanimate) per spell slot and use this later for my weights.  As seen in the reanimate() function, to encompass the idea that a higher level slot is more valuable, I create my cost function such that it weighs the sum of the spell slots used against this potential benefit. "
      ],
      "metadata": {
        "id": "NeFOpuT97jZv"
      },
      "id": "NeFOpuT97jZv"
    },
    {
      "cell_type": "code",
      "execution_count": 1,
      "id": "3a99972f",
      "metadata": {
        "id": "3a99972f"
      },
      "outputs": [],
      "source": [
        "from scipy import optimize as opt\n",
        "import numpy as np\n",
        "\n",
        "spell_slots = {\n",
        "    3: 3,\n",
        "    4: 3,\n",
        "    5: 2,\n",
        "    6: 1,\n",
        "}; \n",
        "\n",
        "animate_at3 = 2\n",
        "reanimate_at3 = 5\n",
        "bonus = 2\n",
        "\n",
        "n_days = 4\n",
        "\n",
        "n_skellies_per_slot = {}\n",
        "for i in range(3, 7): \n",
        "        n_skellies_per_slot[i] = (animate_at3 + (i-3)*bonus, reanimate_at3 + (i-3)*bonus)\n"
      ]
    },
    {
      "cell_type": "markdown",
      "source": [
        "This next cell is where most of the magic happens (It's where the wizard casts the spell).  I break out the total number of spell slots into 8 different varaibles, dividing up spell slots that are used for initial animation and reanimation, and constraining the optimization problem such that, no matter how these slots are allocated (either creating new skeletons or keeping the old ones) that I never use more than my available slots.  I add an additional constraint such that the number of skeletons that are reanimated each day does not exceed the total number of skeletons that were accumulated from the previous days.   This avoids the tremendously silly case where my wizard starts with 0 skeletons, makes no new ones, and uses all of her resources to reassert control over 0 skeletons.  "
      ],
      "metadata": {
        "id": "wbd4P0uLAYWB"
      },
      "id": "wbd4P0uLAYWB"
    },
    {
      "cell_type": "code",
      "execution_count": 6,
      "id": "c7583f12",
      "metadata": {
        "id": "c7583f12"
      },
      "outputs": [],
      "source": [
        "def reanimate(n_skellies,curr_slots): \n",
        "    \"\"\" Solves optimization problem to balance use of spell slots with resurrecting all the skellies\"\"\"\n",
        "    def f(x,w1,w2): \n",
        "        return -np.matmul(w1,x[:4]) - np.matmul(w2,x[4:]) + np.sum(x)\n",
        "    \n",
        "    w1 = np.zeros(4)\n",
        "    w2 = np.zeros(4)\n",
        "    for lvl, (a,r) in n_skellies_per_slot.items():\n",
        "        w1[lvl-3] = r\n",
        "        w2[lvl-3] = a\n",
        "    bounds = opt.Bounds(np.zeros(8), np.hstack((curr_slots, curr_slots)))\n",
        "    m = [[1,0,0,0,1,0,0,0],\n",
        "         [0,1,0,0,0,1,0,0],\n",
        "         [0,0,1,0,0,0,1,0],\n",
        "         [0,0,0,1,0,0,0,1],\n",
        "         [w1[0],w1[1],w1[2],w1[3],0,0,0,0]]\n",
        "    constraint = opt.LinearConstraint(m, lb=[0,0,0,0,0], ub=np.hstack((curr_slots,n_skellies)))\n",
        "    x_start = np.asarray([1,1,1,1,1,1,1,1])\n",
        "    result = opt.minimize(f, x_start, args=(w1,w2), method='trust-constr', bounds=bounds, constraints=constraint)\n",
        "        \n",
        "    \n",
        "\n",
        "    return (np.matmul(np.hstack((w1,w2)),np.round(result.x)), np.round(result.x))"
      ]
    },
    {
      "cell_type": "markdown",
      "source": [
        "This final cell is where the optimization problem is actually run.  It keeps track of the total number of accumulated skeletns and prints out the new running total of skeletons each day as well as the spell slots utilized for those skeletons.  The array of spell slots is printed as first showing the slots (level 3-6) used for reanimating old skeletons followed by the spell slots (level 3-6) used for creating new skeletons.  "
      ],
      "metadata": {
        "id": "9A7jdiPDCQQj"
      },
      "id": "9A7jdiPDCQQj"
    },
    {
      "cell_type": "code",
      "execution_count": 7,
      "id": "9e39826e",
      "metadata": {
        "scrolled": true,
        "colab": {
          "base_uri": "https://localhost:8080/"
        },
        "id": "9e39826e",
        "outputId": "a50f3b44-b801-4ebc-b0e8-fa972af65c94"
      },
      "outputs": [
        {
          "output_type": "stream",
          "name": "stdout",
          "text": [
            "Day 1\n",
            "38.0 skeletons, Spell Slots used: [ 0.  0. -0. -0.  3.  3.  2.  1.] \n",
            "Day 2\n",
            "56.0 skeletons, Spell Slots used: [3. 3. 0. 0. 0. 0. 2. 1.] \n",
            "Day 3\n",
            "62.0 skeletons, Spell Slots used: [3. 3. 2. 0. 0. 0. 0. 1.] \n",
            "Day 4\n",
            "65.0 skeletons, Spell Slots used: [3. 3. 2. 1. 0. 0. 0. 0.] \n"
          ]
        }
      ],
      "source": [
        "\n",
        "n_skellies = 0\n",
        "for i in range(n_days): \n",
        "    print(f\"Day {i+1}\")\n",
        "    #regain spell slots\n",
        "    curr_slots = np.asarray(list(spell_slots.values()))\n",
        "    n_skellies, result = reanimate(n_skellies, curr_slots)\n",
        "\n",
        "    print(f\"{n_skellies} skeletons, Spell Slots used: {result} \")\n",
        " \n",
        "    \n",
        "    "
      ]
    },
    {
      "cell_type": "markdown",
      "source": [
        "Turns out my Necromancer could have a batallion of 65 skeletons ready in 4 days.  "
      ],
      "metadata": {
        "id": "ckpnWdHhDhvJ"
      },
      "id": "ckpnWdHhDhvJ"
    }
  ],
  "metadata": {
    "kernelspec": {
      "display_name": "Python 3",
      "language": "python",
      "name": "python3"
    },
    "language_info": {
      "codemirror_mode": {
        "name": "ipython",
        "version": 3
      },
      "file_extension": ".py",
      "mimetype": "text/x-python",
      "name": "python",
      "nbconvert_exporter": "python",
      "pygments_lexer": "ipython3",
      "version": "3.7.10"
    },
    "colab": {
      "provenance": []
    }
  },
  "nbformat": 4,
  "nbformat_minor": 5
}